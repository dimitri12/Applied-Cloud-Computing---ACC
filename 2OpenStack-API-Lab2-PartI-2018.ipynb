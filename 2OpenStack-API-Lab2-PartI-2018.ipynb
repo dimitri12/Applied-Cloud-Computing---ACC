{
 "cells": [
  {
   "cell_type": "markdown",
   "metadata": {},
   "source": [
    "# Computer Lab 2, Part I"
   ]
  },
  {
   "cell_type": "markdown",
   "metadata": {},
   "source": [
    "This notebook consists of instructions, exercises and questions that form the practical part of Lab II, Part I. In this assignment, you will learn the basics of the OpenStack Python APIs that can be used to interact directly with the IaaS services Keystone (Identity), Glance (Image) and Nova (compute). Please prepare your solution and answers to questions directly in this notebook, and export it to PDF. Upload that PDF as to the student portal to complete Part I of the Lab.  "
   ]
  },
  {
   "cell_type": "markdown",
   "metadata": {},
   "source": [
    "## Task - 1"
   ]
  },
  {
   "cell_type": "code",
   "execution_count": 1,
   "metadata": {},
   "outputs": [],
   "source": [
    "from os import environ as env\n",
    "import keystoneclient.v3.client as ksclient\n",
    "from novaclient import client\n",
    "from novaclient import extension\n",
    "from novaclient.v2 import instance_action\n",
    "from keystoneauth1 import session\n",
    "from keystoneauth1 import loading\n",
    "from swiftclient import Connection\n",
    "import time\n",
    "PWD = \"Instagram12\""
   ]
  },
  {
   "cell_type": "markdown",
   "metadata": {},
   "source": [
    "To establish a client connection, we will need to pass a dictionary with information about the tenant, user, credentials and the API Identity endpoint. Here, I have sourced the \"openrc.sh file\" obtained from the Horizon dashboard in the underlying shell prior to starting the notebook. Hence, in order to actually run the code below, you would need to do the same with your own credentials. "
   ]
  },
  {
   "cell_type": "code",
   "execution_count": 2,
   "metadata": {},
   "outputs": [],
   "source": [
    "keystone = ksclient.Client(auth_url=\"https://uppmax.cloud.snic.se:5000/v3\",\n",
    "                           username=\"s10763\",\n",
    "                           password='Instagram12',\n",
    "                           project_name=\"SNIC 2018/10-30\",\n",
    "                           project_domain_name='snic',\n",
    "                           project_id='2344cddf33a1412b846290a9fb90b762',\n",
    "                           version='3',\n",
    "                           user_domain_name=\"snic\",\n",
    "                           region_name='UPPMAX')"
   ]
  },
  {
   "cell_type": "raw",
   "metadata": {},
   "source": [
    "# Next command will collect all the available endpoints in keystone."
   ]
  },
  {
   "cell_type": "code",
   "execution_count": 11,
   "metadata": {},
   "outputs": [],
   "source": [
    "endpoints = keystone.service_catalog.get_endpoints()"
   ]
  },
  {
   "cell_type": "raw",
   "metadata": {
    "collapsed": true
   },
   "source": [
    "# Next section will print the services with associated infromation."
   ]
  },
  {
   "cell_type": "code",
   "execution_count": 12,
   "metadata": {},
   "outputs": [
    {
     "name": "stdout",
     "output_type": "stream",
     "text": [
      "public \n",
      "\n",
      "service:  cloudformation , region:  UPPMAX , public endpoint:  https://uppmax.cloud.snic.se:8000/v1\n",
      "\n",
      "\n",
      "internal \n",
      "\n",
      "service:  cloudformation , region:  UPPMAX , public endpoint:  http://172.24.0.165:8000/v1\n",
      "\n",
      "\n",
      "internal \n",
      "\n",
      "service:  metering , region:  UPPMAX , public endpoint:  http://172.24.0.165:8777\n",
      "\n",
      "\n",
      "public \n",
      "\n",
      "service:  metering , region:  UPPMAX , public endpoint:  https://uppmax.cloud.snic.se:8777\n",
      "\n",
      "\n",
      "internal \n",
      "\n",
      "service:  compute , region:  UPPMAX , public endpoint:  http://172.24.0.165:8774/v2.1/2344cddf33a1412b846290a9fb90b762\n",
      "\n",
      "\n",
      "public \n",
      "\n",
      "service:  compute , region:  UPPMAX , public endpoint:  https://uppmax.cloud.snic.se:8774/v2.1/2344cddf33a1412b846290a9fb90b762\n",
      "\n",
      "\n",
      "internal \n",
      "\n",
      "service:  network , region:  UPPMAX , public endpoint:  http://172.24.0.165:9696\n",
      "\n",
      "\n",
      "public \n",
      "\n",
      "service:  network , region:  UPPMAX , public endpoint:  https://uppmax.cloud.snic.se:9696\n",
      "\n",
      "\n",
      "public \n",
      "\n",
      "service:  object-store , region:  UPPMAX , public endpoint:  https://uppmax.cloud.snic.se:8080/v1/AUTH_2344cddf33a1412b846290a9fb90b762\n",
      "\n",
      "\n",
      "internal \n",
      "\n",
      "service:  object-store , region:  UPPMAX , public endpoint:  http://172.24.0.165:8080/v1/AUTH_2344cddf33a1412b846290a9fb90b762\n",
      "\n",
      "\n",
      "public \n",
      "\n",
      "service:  orchestration , region:  UPPMAX , public endpoint:  https://uppmax.cloud.snic.se:8004/v1/2344cddf33a1412b846290a9fb90b762\n",
      "\n",
      "\n",
      "internal \n",
      "\n",
      "service:  orchestration , region:  UPPMAX , public endpoint:  http://172.24.0.165:8004/v1/2344cddf33a1412b846290a9fb90b762\n",
      "\n",
      "\n",
      "internal \n",
      "\n",
      "service:  volumev3 , region:  UPPMAX , public endpoint:  http://172.24.0.165:8776/v3/2344cddf33a1412b846290a9fb90b762\n",
      "\n",
      "\n",
      "public \n",
      "\n",
      "service:  volumev3 , region:  UPPMAX , public endpoint:  https://uppmax.cloud.snic.se:8776/v3/2344cddf33a1412b846290a9fb90b762\n",
      "\n",
      "\n",
      "internal \n",
      "\n",
      "service:  identity , region:  UPPMAX , public endpoint:  http://172.24.0.165:5000/v3\n",
      "\n",
      "\n",
      "public \n",
      "\n",
      "service:  identity , region:  UPPMAX , public endpoint:  https://uppmax.cloud.snic.se:5000/v3\n",
      "\n",
      "\n",
      "public \n",
      "\n",
      "service:  volumev2 , region:  UPPMAX , public endpoint:  https://uppmax.cloud.snic.se:8776/v2/2344cddf33a1412b846290a9fb90b762\n",
      "\n",
      "\n",
      "internal \n",
      "\n",
      "service:  volumev2 , region:  UPPMAX , public endpoint:  http://172.24.0.165:8776/v2/2344cddf33a1412b846290a9fb90b762\n",
      "\n",
      "\n",
      "internal \n",
      "\n",
      "service:  volume , region:  UPPMAX , public endpoint:  http://172.24.0.165:8776/v1/2344cddf33a1412b846290a9fb90b762\n",
      "\n",
      "\n",
      "public \n",
      "\n",
      "service:  volume , region:  UPPMAX , public endpoint:  https://uppmax.cloud.snic.se:8776/v1/2344cddf33a1412b846290a9fb90b762\n",
      "\n",
      "\n",
      "public \n",
      "\n",
      "service:  image , region:  UPPMAX , public endpoint:  https://uppmax.cloud.snic.se:9292\n",
      "\n",
      "\n",
      "internal \n",
      "\n",
      "service:  image , region:  UPPMAX , public endpoint:  http://172.24.0.165:9292\n",
      "\n",
      "\n"
     ]
    }
   ],
   "source": [
    "for endpoint in endpoints:\n",
    "    for edp in endpoints[endpoint]:\n",
    "        if edp['interface'] == 'internal':\n",
    "            print(\"internal \\n\")\n",
    "            print ('service: ', endpoint, ', region: ', edp['region'], ', public endpoint: ', edp['url'])\n",
    "            print(\"\\n\")\n",
    "        elif edp['interface'] == 'public':\n",
    "            print(\"public \\n\")\n",
    "            print('service: ', endpoint, ', region: ', edp['region'], ', public endpoint: ', edp['url'])\n",
    "            print(\"\\n\")\n",
    "        "
   ]
  },
  {
   "cell_type": "markdown",
   "metadata": {},
   "source": [
    "## Questions:"
   ]
  },
  {
   "cell_type": "raw",
   "metadata": {},
   "source": [
    "1 - Explain the working of the code?\n",
    "2 - Why we need openrc file to run this code?\n",
    "3 - The code shows information about the \"public\" endpoints. Modify the code to show both the \"public\" and \"internal\" endpoints?\n",
    "4 - What is the difference between \"internal\" and \"public\" endpoints?"
   ]
  },
  {
   "cell_type": "markdown",
   "metadata": {
    "collapsed": true
   },
   "source": [
    "## Task - 2"
   ]
  },
  {
   "cell_type": "markdown",
   "metadata": {
    "collapsed": true
   },
   "source": [
    "In this task you need to write a small python program using Keystone and Nova APIs to list all the available VMs in the project. \n",
    "\n",
    "Use the following links and the code available in Task-1. \n",
    "\n",
    "https://docs.openstack.org/python-novaclient/pike/ https://docs.openstack.org/python-novaclient/pike/reference/api/index.html\n",
    "\n",
    "Following are the functions required to accomplish the task: \n",
    "\n",
    "Load the required plugin:<br />\n",
    "loader = loading.get_plugin_loader(...)\n",
    "\n",
    "Create the auth object:<br />\n",
    "auth = loader.load_from_options(....) \n",
    "\n",
    "Create session object using \"auth\":<br />\n",
    "sess = session.Session( .... )\n",
    "\n",
    "Create Nova Client Object:<br />\n",
    "nova = client.Client( ... )\n",
    "\n",
    "Print the Vms:<br />\n",
    "nova.servers.list():"
   ]
  },
  {
   "cell_type": "code",
   "execution_count": 7,
   "metadata": {},
   "outputs": [
    {
     "data": {
      "text/plain": [
       "[<Server: philip_c3>,\n",
       " <Server: MinhPham_VM1>,\n",
       " <Server: monains>,\n",
       " <Server: fabian_c3_v3>,\n",
       " <Server: fabian_c3_v2>,\n",
       " <Server: swatilab2>,\n",
       " <Server: fgolander-c3-2>,\n",
       " <Server: ACC16-spark_worker>,\n",
       " <Server: ACC16-spark_master>,\n",
       " <Server: ACC16-ansible_master>,\n",
       " <Server: malina>,\n",
       " <Server: alst4459-lab-3-stack-worker-wi4bv6b7uqp7>,\n",
       " <Server: alst4459-lab-3-stack-master-peuakguudbrz>,\n",
       " <Server: group2_SM>,\n",
       " <Server: group2_SW>,\n",
       " <Server: Sundman_Project>,\n",
       " <Server: group2_AM>,\n",
       " <Server: hungphan_vm1>,\n",
       " <Server: nurre>,\n",
       " <Server: joc3_2>,\n",
       " <Server: fgolander_c3>,\n",
       " <Server: anu_project>,\n",
       " <Server: Ae>,\n",
       " <Server: dimitric2>,\n",
       " <Server: Ghand_C3>,\n",
       " <Server: tim_c1_ubuntu>,\n",
       " <Server: ACC-group11>,\n",
       " <Server: superSecretInstance>,\n",
       " <Server: PalmC3>,\n",
       " <Server: g13-01>,\n",
       " <Server: swativm-docker1>,\n",
       " <Server: swativm-docker1>,\n",
       " <Server: alroscript-my_instance1-ncamg2c3gbfd>,\n",
       " <Server: alroscript-my_instance0-q2x264ygaxpp>,\n",
       " <Server: myscript-my_instance0-34dfkhkqye47>,\n",
       " <Server: myscript-my_instance1-3irhgemqtff6>,\n",
       " <Server: ari_d>,\n",
       " <Server: ssc-test-stack.yml-my_instance1-hp3dojbwl45f>,\n",
       " <Server: ssc-test-stack.yml-my_instance0-jg4yefqkqopj>,\n",
       " <Server: nkacc>,\n",
       " <Server: swativm3>,\n",
       " <Server: Sudo's Instance>,\n",
       " <Server: alroo>,\n",
       " <Server: NSA_vm3>,\n",
       " <Server: axhe6263_lab3>,\n",
       " <Server: C3_Nairolf>,\n",
       " <Server: PalmC2>,\n",
       " <Server: Paris_c3>,\n",
       " <Server: bihiC3>,\n",
       " <Server: monains_with_container>,\n",
       " <Server: ans_master_acc3>,\n",
       " <Server: joakim>,\n",
       " <Server: ptr-c2-task1-3>,\n",
       " <Server: dmb2>,\n",
       " <Server: moac3>,\n",
       " <Server: Elsa_C3_2>,\n",
       " <Server: Nevine>,\n",
       " <Server: Task>,\n",
       " <Server: philstack-my_instance0-uvdkve6qstzw>,\n",
       " <Server: philstack-my_instance1-5uje2qukagqw>,\n",
       " <Server: ljlC3>,\n",
       " <Server: Joakim_I_C3>,\n",
       " <Server: priya16>,\n",
       " <Server: JoosepAlviste_C3>,\n",
       " <Server: fabian_c3>,\n",
       " <Server: max-c3>,\n",
       " <Server: Johanna_C3>,\n",
       " <Server: Saranya_C3>,\n",
       " <Server: malinc3>,\n",
       " <Server: sara_c3>,\n",
       " <Server: Elvin>,\n",
       " <Server: Groot_C3>,\n",
       " <Server: Sundman_C3>,\n",
       " <Server: Regefalk_C3>,\n",
       " <Server: alkinstance1>,\n",
       " <Server: ANDAX>,\n",
       " <Server: Fred - C3>,\n",
       " <Server: Caspar_Inst>,\n",
       " <Server: ljm>,\n",
       " <Server: antonc2>,\n",
       " <Server: anna>,\n",
       " <Server: ACC4_Ansible_Master>,\n",
       " <Server: ACC4_Spark_Master>,\n",
       " <Server: ACC4_Spark_Worker>,\n",
       " <Server: spark_worker_3>,\n",
       " <Server: spark_master_3>,\n",
       " <Server: ans_master_3>,\n",
       " <Server: swati>,\n",
       " <Server: granlof>,\n",
       " <Server: ACC19Project>,\n",
       " <Server: svni7746_instance>]"
      ]
     },
     "execution_count": 7,
     "metadata": {},
     "output_type": "execute_result"
    }
   ],
   "source": [
    "loader = loading.get_plugin_loader('password')\n",
    "ia_extensions = [\n",
    "        extension.Extension(instance_action.__name__.split(\".\")[-1],\n",
    "                            instance_action),\n",
    "]\n",
    "auth = loader.load_from_options(auth_url=\"https://uppmax.cloud.snic.se:5000/v3\",\n",
    "                                username=\"s10763\",\n",
    "                                 password=PWD,\n",
    "                                 project_id='2344cddf33a1412b846290a9fb90b762',\n",
    "                                 project_domain_name=\"snic\",\n",
    "                                project_domain_id=\"snic\",\n",
    "                                 user_domain_name=\"snic\")\n",
    "sess = session.Session(auth=auth)\n",
    "nova = client.Client(\"2\", session=sess,extensions=ia_extensions)\n",
    "#nova.instance_action.list(\"5a47d5cc-cda2-4721-b280-b459bb50dd81\")\n",
    "nova.servers.list()"
   ]
  },
  {
   "cell_type": "markdown",
   "metadata": {},
   "source": [
    "## Task - 3:"
   ]
  },
  {
   "cell_type": "markdown",
   "metadata": {},
   "source": [
    "Try to measure the speed with which you can put and get files to and from volumes. Conduct your experiment several times to gather statistic and plot a) A estimated distribution of the time taken (in wall clock) to write and read a file of size 10MB in your volume and b) vary the size of the file from 10kB to 100MB and plot the read and write throughput (in MB/s) times as a function of file size (for the smaller data sizes, you might need to repeat the experiment many times and obtain a statistical average). Use \"Root\" disk as a reference point. Include the resulting graphs and a description of your experiment in the report."
   ]
  },
  {
   "cell_type": "code",
   "execution_count": 9,
   "metadata": {},
   "outputs": [
    {
     "name": "stdout",
     "output_type": "stream",
     "text": [
      "Populating the interactive namespace from numpy and matplotlib\n"
     ]
    },
    {
     "data": {
      "text/plain": [
       "[<matplotlib.lines.Line2D at 0x7fa1d7d8c4e0>]"
      ]
     },
     "execution_count": 9,
     "metadata": {},
     "output_type": "execute_result"
    },
    {
     "data": {
      "image/png": "[encoded data removed]",
      "text/plain": [
       "<Figure size 432x288 with 1 Axes>"
      ]
     },
     "metadata": {
      "needs_background": "light"
     },
     "output_type": "display_data"
    }
   ],
   "source": [
    "# Implement you solution here. Hint, the following command\n",
    "%pylab inline \n",
    "loader = loading.get_plugin_loader('password')\n",
    "auth = loader.load_from_options(auth_url=\"https://uppmax.cloud.snic.se:5000/v3\",\n",
    "                                username=\"s10763\",\n",
    "                                 password=PWD,\n",
    "                                 project_id='2344cddf33a1412b846290a9fb90b762',\n",
    "                                 project_domain_name=\"snic\",\n",
    "                                project_domain_id=\"snic\",\n",
    "                                 user_domain_name=\"snic\")\n",
    "sess = session.Session(auth=auth)\n",
    "nova = client.Client(\"2\", session=sess)\n",
    "swift = Connection(session=keystone)\n",
    "\n",
    "# will  make matplotlib/pylab available and plots will be displayed directly in the notebook, for example\n",
    "\n",
    "\n",
    "start1 = time.time()\n",
    "#10MB\n",
    "with open(\"myTestFile.txt\", \"wb\") as f:\n",
    "    f.seek(1048575*10)\n",
    "    f.write(b'0')\n",
    "\n",
    "end1 = time.time()\n",
    "result_time1 = end1 - start1\n",
    "\n",
    "start2 = time.time()\n",
    "#20MB\n",
    "with open(\"myTestFile1.txt\", \"wb\") as f:\n",
    "    f.seek(1048575*20)\n",
    "    f.write(b'0')\n",
    "end2 = time.time()\n",
    "result_time2 = end2 - start2\n",
    "\n",
    "start3 = time.time()\n",
    "#30MB\n",
    "with open(\"myTestFile2.txt\", \"wb\") as f:\n",
    "    f.seek(1048575*30)\n",
    "    f.write(b'0')\n",
    "\n",
    "end3 = time.time()\n",
    "result_time3 = end3 - start3\n",
    "\n",
    "start4 = time.time()\n",
    "#40MB\n",
    "with open(\"myTestFile3.txt\", \"wb\") as f:\n",
    "    f.seek(1048575*40)\n",
    "    f.write(b'0')\n",
    "\n",
    "end4 = time.time()\n",
    "result_time4 = end4 - start4\n",
    "\n",
    "start5 = time.time()\n",
    "#50MB\n",
    "with open(\"myTestFile4.txt\", \"wb\") as f:\n",
    "    f.seek(1048575*50)\n",
    "    f.write(b'0')\n",
    "\n",
    "end5 = time.time()\n",
    "result_time5 = end5 - start5\n",
    "\n",
    "start6 = time.time()\n",
    "#60MB\n",
    "with open(\"myTestFile5.txt\", \"wb\") as f:\n",
    "    f.seek(1048575*60)\n",
    "    f.write(b'0')\n",
    "\n",
    "end6 = time.time()\n",
    "result_time6 = end6 - start6\n",
    "\n",
    "start7 = time.time()\n",
    "#70MB\n",
    "with open(\"myTestFile6.txt\", \"wb\") as f:\n",
    "    f.seek(1048575*70)\n",
    "    f.write(b'0')\n",
    "\n",
    "end7 = time.time()\n",
    "result_time7 = end7 - start7\n",
    "\n",
    "start8 = time.time()\n",
    "#80MB\n",
    "with open(\"myTestFile7.txt\", \"wb\") as f:\n",
    "    f.seek(1048575*80)\n",
    "    f.write(b'0')\n",
    "\n",
    "end8 = time.time()\n",
    "result_time8 = end8 - start8\n",
    "\n",
    "start9 = time.time()\n",
    "#90MB\n",
    "with open(\"myTestFile8.txt\", \"wb\") as f:\n",
    "    f.seek(1048575*90)\n",
    "    f.write(b'0')\n",
    "\n",
    "end9 = time.time()\n",
    "result_time9 = end9 - start9\n",
    "\n",
    "start10 = time.time()\n",
    "#100MB\n",
    "with open(\"myTestFile9.txt\", \"wb\") as f:\n",
    "    f.seek(1048575*100)\n",
    "    f.write(b'0')\n",
    "\n",
    "end10 = time.time()\n",
    "result_time10 = end10 - start10\n",
    "\n",
    "\n",
    "plt.plot([10,20,30,40,50,60,70,80,90,100],[result_time1,result_time2,result_time3,result_time4,result_time5,result_time6,result_time7,result_time8,result_time9,result_time10])"
   ]
  },
  {
   "cell_type": "markdown",
   "metadata": {},
   "source": [
    "Don't foget to terminate resources after your experiments. "
   ]
  },
  {
   "cell_type": "code",
   "execution_count": null,
   "metadata": {
    "collapsed": true
   },
   "outputs": [],
   "source": [
    "# Clean up volumes"
   ]
  }
 ],
 "metadata": {
  "kernelspec": {
   "display_name": "Python 3",
   "language": "python",
   "name": "python3"
  },
  "language_info": {
   "codemirror_mode": {
    "name": "ipython",
    "version": 3
   },
   "file_extension": ".py",
   "mimetype": "text/x-python",
   "name": "python",
   "nbconvert_exporter": "python",
   "pygments_lexer": "ipython3",
   "version": "3.5.2"
  }
 },
 "nbformat": 4,
 "nbformat_minor": 1
}
